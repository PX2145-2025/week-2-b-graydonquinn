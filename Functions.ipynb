{
  "cells": [
    {
      "cell_type": "markdown",
      "metadata": {
        "id": "view-in-github",
        "colab_type": "text"
      },
      "source": [
        "<a href=\"https://colab.research.google.com/github/PX2145-2025/week-2-b-graydonquinn/blob/main/Functions.ipynb\" target=\"_parent\"><img src=\"https://colab.research.google.com/assets/colab-badge.svg\" alt=\"Open In Colab\"/></a>"
      ]
    },
    {
      "cell_type": "markdown",
      "metadata": {
        "id": "wcYzdesOG2DB"
      },
      "source": [
        "# Feedback for week 1 and other and hints\n",
        "\n",
        "We are working with [Jupyter notebooks](https://jupyter.org/). You can either run those in the [Google Colab](https://colab.research.google.com/notebooks/intro.ipynb) environment, or on your own computer with [Anaconda3](https://www.anaconda.com/distribution/#download-section).\n",
        "\n",
        "1. Be careful about your environment remembering variables. Make sure your code works in a new _clean_ environment. In Colab: `Runtime`->`restart Runtime`, in Anaconda's Jupyter: `Kernel`->`Restart`.\n",
        "2. Graphs without labels (or units when appropriate) are not worth any point.\n",
        "4. If you are using `loadtxt()` to read in from a file where the numbers are separated by commas, you need to use the keyword `delimiter=','`.\n",
        "5. If you are asked to plot a function (for example $y = x^2$ in question 2 last week, or the 2D function of question 3) you will need to think for yourself the best way to do this - deciding the number of points and the range of values etc.\n",
        "6. Always explore the options of Python functions using the in-built help or refer to https://docs.scipy.org/ and https://www.python.org/doc/.\n",
        "\n",
        "For this week we will need the following imports:"
      ]
    },
    {
      "cell_type": "code",
      "execution_count": 1,
      "metadata": {
        "id": "3C4LDHUkG2DC"
      },
      "outputs": [],
      "source": [
        "from numpy import array,sqrt,pi,sin"
      ]
    },
    {
      "cell_type": "markdown",
      "metadata": {
        "id": "RLIIkmraG2DG"
      },
      "source": [
        "# Introduction\n",
        "\n",
        "In this worksheet we’ll introduce Python functions. Functions are important in any programming language since they enable code to be simply re-used in a program (and other programs). They also help break up complex problems into simpler pieces and therefore make the code simpler and clearer.\n",
        "Functions are most easily understood by example:\n",
        "## Simple functions\n",
        "Run the following code:"
      ]
    },
    {
      "cell_type": "code",
      "execution_count": 2,
      "metadata": {
        "colab": {
          "base_uri": "https://localhost:8080/"
        },
        "id": "AbUJtLHMG2DH",
        "outputId": "e0097816-90e2-4ec2-ff67-5a306407178c"
      },
      "outputs": [
        {
          "output_type": "stream",
          "name": "stdout",
          "text": [
            "Cube of 3.1 is 29.791000000000004\n",
            "Cube of 3.1 is 29.791000000000004\n",
            "Cube of 1.3 is 2.1970000000000005\n"
          ]
        }
      ],
      "source": [
        "def cube(x):\n",
        "    \"\"\"\n",
        "    Return the cube of x\n",
        "    >>> cube(3)\n",
        "    27\n",
        "    \"\"\"\n",
        "    return x * x * x\n",
        "\n",
        "x = 3.1\n",
        "print('Cube of', x, 'is', cube(x))\n",
        "'''\n",
        "Of course, we don't have to use the same variable name 'x'. This is\n",
        "a 'dummy variable' in the function.\n",
        "'''\n",
        "y = 3.1\n",
        "print('Cube of', y, 'is', cube(y))\n",
        "\n",
        "print('Cube of', 1.3, 'is', cube(1.3))"
      ]
    },
    {
      "cell_type": "markdown",
      "metadata": {
        "id": "amaQagttG2DL"
      },
      "source": [
        "The keyword `def` marks the start of the definition of a function. This is followed by the name of the function and any parameters that are to be passed into the function. The keyword `return` is used if the function needs to return parameters. Not all functions will need to do this - they might just perform a series of actions. For example:"
      ]
    },
    {
      "cell_type": "code",
      "execution_count": 3,
      "metadata": {
        "colab": {
          "base_uri": "https://localhost:8080/"
        },
        "id": "tnzUNcKTG2DM",
        "outputId": "adfe2d22-f77a-45cc-eead-39f072a5eda3"
      },
      "outputs": [
        {
          "output_type": "stream",
          "name": "stdout",
          "text": [
            "Cube of 3 is 27\n"
          ]
        }
      ],
      "source": [
        "# Define a simple function ...\n",
        "def print_cube(x):\n",
        "    \"\"\"\n",
        "    Prints the cube of x\n",
        "    >>> print_cube(3)\n",
        "    Cube of 3 is 27\n",
        "    \"\"\"\n",
        "    print ('Cube of', x, 'is', x * x * x)\n",
        "\n",
        "print_cube(3)"
      ]
    },
    {
      "cell_type": "markdown",
      "metadata": {
        "id": "DsU6dZZzG2DO"
      },
      "source": [
        "What do you expect the following code snippet will print out?"
      ]
    },
    {
      "cell_type": "code",
      "execution_count": 4,
      "metadata": {
        "colab": {
          "base_uri": "https://localhost:8080/"
        },
        "id": "-tS7arGDG2DP",
        "outputId": "be56ffb0-383e-41fc-da9a-191f71df062f"
      },
      "outputs": [
        {
          "output_type": "stream",
          "name": "stdout",
          "text": [
            "Original value 2\n",
            "After function call 2\n"
          ]
        }
      ],
      "source": [
        "# Define a simple function ...\n",
        "def quad(x):\n",
        "    \"\"\"\n",
        "    Return the fourth power of x\n",
        "    >>> quad(3)\n",
        "    81\n",
        "    \"\"\"\n",
        "    x = x**4\n",
        "    return x\n",
        "\n",
        "x = 2\n",
        "print('Original value', x)\n",
        "quad(x)\n",
        "print('After function call', x)"
      ]
    },
    {
      "cell_type": "markdown",
      "metadata": {
        "id": "F2eRolK7G2DU"
      },
      "source": [
        "**Note**: the functions above have a short string describing what they do, and give an example of how to use them. Writing the function documation that way in `python` has two advanges. First, it will get picked up by built-in help systems, and second it can get run automatically by software that check the health of the code. We are using such a software, [doctest](https://docs.python.org/3/library/doctest.html#module-doctest), in this classroom setup. So in this latest example, `doctest` tries to run `quad(3)` and checks if the answer is indeed `81`. There are such tests included in the exercises. Don't remove them, they are here to help you iterate over the right solution.\n",
        "\n",
        "Functions can be rather flexible in how they work. For example, we can define a simple function which is a linear function of an input variable x, and it will work for both a simple variable or an array:"
      ]
    },
    {
      "cell_type": "code",
      "execution_count": 5,
      "metadata": {
        "colab": {
          "base_uri": "https://localhost:8080/"
        },
        "id": "9BS0CzDNG2DV",
        "outputId": "1d155d9e-5edb-493b-df24-854889a56054"
      },
      "outputs": [
        {
          "output_type": "stream",
          "name": "stdout",
          "text": [
            "Cube of 3 is 27\n",
            "3.4\n"
          ]
        }
      ],
      "source": [
        "# Define a simple function ...\n",
        "def print_cube(x):\n",
        "    \"\"\"\n",
        "    Prints the cube of x\n",
        "    >>> print_cube(3)\n",
        "    Cube of 3 is 27\n",
        "    \"\"\"\n",
        "    print('Cube of', x, 'is', x * x * x)\n",
        "\n",
        "print_cube(3)\n",
        "\n",
        "# Define a less simple function ...\n",
        "def linear(x, m, c):\n",
        "    '''\n",
        "    This returns a linear function of a variable x\n",
        "    '''\n",
        "    return m*x + c\n",
        "\n",
        "x = 1.2\n",
        "y = linear(x, 2, 1)\n",
        "print(y)"
      ]
    },
    {
      "cell_type": "code",
      "execution_count": 6,
      "metadata": {
        "colab": {
          "base_uri": "https://localhost:8080/"
        },
        "id": "pLb4X8k3G2DX",
        "outputId": "acbf6fe9-bbad-49a7-c3b0-6a3bec89959d"
      },
      "outputs": [
        {
          "output_type": "stream",
          "name": "stdout",
          "text": [
            "[ 1.  3.  5.  7.  9. 11. 13. 15.]\n"
          ]
        }
      ],
      "source": [
        "# Create a data array ...\n",
        "x = array([ 0.0, 1.0, 2.0, 3.0, 4.0, 5.0, 6.0, 7.0 ])\n",
        "y = linear(x, 2, 1)\n",
        "print(y)"
      ]
    },
    {
      "cell_type": "markdown",
      "metadata": {
        "id": "BPxpC6iJG2Da"
      },
      "source": [
        "## More about functions\n",
        "Sometimes, there can be lots of variables that remain the same when calling a function. If that’s the case you can simplify the syntax a bit. For example, let’s write a function to find how long it takes a mass to hit the ground when dropped (from rest) from a height h. The function will look like:"
      ]
    },
    {
      "cell_type": "code",
      "execution_count": 7,
      "metadata": {
        "id": "Zhs4BHHCG2Da"
      },
      "outputs": [],
      "source": [
        "def T(h, g):\n",
        "    '''\n",
        "    Returns fall time [s] of a mass released from a height\n",
        "    h [m] above the Earth's surface. g in ms^-2.\n",
        "    '''\n",
        "    return sqrt(2*h/g)"
      ]
    },
    {
      "cell_type": "markdown",
      "metadata": {
        "id": "eiKjxDt-G2Dc"
      },
      "source": [
        "This is called as follows:"
      ]
    },
    {
      "cell_type": "code",
      "execution_count": 8,
      "metadata": {
        "colab": {
          "base_uri": "https://localhost:8080/"
        },
        "id": "jUWeQGAgG2Dd",
        "outputId": "fa4781c1-3a82-4acd-f0b4-8881c4be7ef5"
      },
      "outputs": [
        {
          "output_type": "stream",
          "name": "stdout",
          "text": [
            "Time from 1 metre is 0.4517539514526256 s\n"
          ]
        }
      ],
      "source": [
        "height = 1  # metre\n",
        "print ('Time from', height, 'metre', 'is' , T(height, 9.8),'s')"
      ]
    },
    {
      "cell_type": "markdown",
      "metadata": {
        "id": "pM_SOHN6G2Df"
      },
      "source": [
        "You *could* program this with a hard-coded value for g, to make the function call simpler:"
      ]
    },
    {
      "cell_type": "code",
      "execution_count": 9,
      "metadata": {
        "colab": {
          "base_uri": "https://localhost:8080/"
        },
        "id": "dyxgqYqKG2Df",
        "outputId": "2c632b32-0d96-4e26-d3b6-d97284d8a09d"
      },
      "outputs": [
        {
          "output_type": "stream",
          "name": "stdout",
          "text": [
            "Time from 1 metre is 0.4515236409857309 s\n"
          ]
        }
      ],
      "source": [
        "def T(h):\n",
        "    '''\n",
        "    Returns fall time [s] of a mass released from a height\n",
        "    h [m] above the Earth's surface.\n",
        "    '''\n",
        "    g=9.81 # in ms^-2\n",
        "    return sqrt(2*h/g)\n",
        "\n",
        "height = 1 # metre\n",
        "print ('Time from', height, 'metre', 'is' , T(height),'s')"
      ]
    },
    {
      "cell_type": "markdown",
      "metadata": {
        "id": "qc7y9fojG2Dk"
      },
      "source": [
        "but then of course it wouldn’t work for Mars’ gravity. A better way is"
      ]
    },
    {
      "cell_type": "code",
      "execution_count": 10,
      "metadata": {
        "colab": {
          "base_uri": "https://localhost:8080/"
        },
        "id": "Fm2wr1XyG2Dk",
        "outputId": "ab5c48c9-b4a6-4f79-c492-8b52fb30cc78"
      },
      "outputs": [
        {
          "output_type": "stream",
          "name": "stdout",
          "text": [
            "Time from 1 metre on Earth is 0.4515236409857309 s\n",
            "Time from 1 metre on Mars is 0.7352146220938077 s\n"
          ]
        }
      ],
      "source": [
        "def T(h, g=9.81):\n",
        "    '''\n",
        "    Returns fall time [s] of a mass released from a height\n",
        "    h [m] above a planet's surface. Default g is 9.81 ms^-2\n",
        "    '''\n",
        "    return sqrt(2*h/g)\n",
        "\n",
        "height = 1  # metre\n",
        "print('Time from', height, 'metre', 'on Earth is' , T(height),'s')\n",
        "print('Time from', height, 'metre', 'on Mars is' , T(height, g=3.7),'s')"
      ]
    },
    {
      "cell_type": "code",
      "execution_count": 11,
      "metadata": {
        "id": "nE_x9G1PGOod",
        "outputId": "41ce305c-44ff-470c-8146-78d73a415c7c",
        "colab": {
          "base_uri": "https://localhost:8080/"
        }
      },
      "outputs": [
        {
          "output_type": "stream",
          "name": "stdout",
          "text": [
            "Time from 1 metre on Earth is 0.4515236409857309 s\n",
            "Time from 2 metre on Earth is 0.638550856814101 s\n",
            "Time from 5 metre on Earth is 1.0096375546923044 s\n",
            "Time from 10 metre on Earth is 1.4278431229270645 s\n"
          ]
        }
      ],
      "source": [
        "for height in [1,2,5,10]:\n",
        "    print('Time from', height, 'metre', 'on Earth is' , T(height),'s')"
      ]
    },
    {
      "cell_type": "markdown",
      "metadata": {
        "id": "OcYE3uDWG2Dm"
      },
      "source": [
        "You can easily extend this to any number of variables. **IMPORTANT**: remember, documentation is part of the code. You should always add a description of a function, especially its inputs and outputs.\n",
        "## Formatting - a reminder\n",
        "You’ll often want to control the number of significant figures that you print out, or use scientific rather than floating point representation of numbers. Remember that you can achieve this in the following ways for example:"
      ]
    },
    {
      "cell_type": "code",
      "execution_count": 12,
      "metadata": {
        "colab": {
          "base_uri": "https://localhost:8080/"
        },
        "id": "NIdPD-snG2Dn",
        "outputId": "d4ce6958-687b-40fb-d2bf-4503f6ac2ca3"
      },
      "outputs": [
        {
          "output_type": "stream",
          "name": "stdout",
          "text": [
            "pi is approximately 3.142.\n",
            "pi is approximately 3.142.\n",
            "8.7 75.90 661.2316\n"
          ]
        }
      ],
      "source": [
        "# recommended method\n",
        "print('pi is approximately {0:.3f}.'.format(pi))\n",
        "# old method you'll see in some code\n",
        "print('pi is approximately %5.3f.' % pi)\n",
        "# the new method is quite powerful ...\n",
        "x = 8.712\n",
        "print('{0:3.1f} {1:3.2f} {2:3.4f}'.format(x, x*x, x*x*x))"
      ]
    },
    {
      "cell_type": "markdown",
      "metadata": {
        "id": "tWtA6Nr9G2Dq"
      },
      "source": [
        "## Packages and functions\n",
        "You’ve already used functions before of course, if not defined them. Some of these functions can be imported by default at the start of your program. But to import extra functions that are not available we have to use something like:"
      ]
    },
    {
      "cell_type": "code",
      "execution_count": 13,
      "metadata": {
        "id": "lXpVdGTAG2Dr"
      },
      "outputs": [],
      "source": [
        "from scipy import integrate"
      ]
    },
    {
      "cell_type": "markdown",
      "metadata": {
        "id": "m41_kAklG2Du"
      },
      "source": [
        "You saw this used when doing numerical integration in PX1224 last year. It’s often convenient to save your own functions in ‘packages’ (or ‘modules’) for future use. This way, if you develop lots of useful functions you have them simply available.\n",
        "\n",
        "Let’s test this out. We will save the following python code in a file called `px2134.py`:\n",
        "\n",
        "```python\n",
        "# A test of writing a simple package.\n",
        "# Define a simple function ...\n",
        "def mycube(x):\n",
        "    return x * x * x\n",
        "```\n",
        "\n",
        "The cell below is saving this code to the `px2134.py` file. In this class we will do this within the notebook to keep all in the same place. But in general one can simply create this `.py` file, (called a _python script_) with any editor one likes (you have used Spyder last year)."
      ]
    },
    {
      "cell_type": "code",
      "execution_count": 14,
      "metadata": {
        "id": "WUH_p5rdGOoe",
        "outputId": "0ba6f4cd-c39f-4595-fa38-050015c0cb53",
        "colab": {
          "base_uri": "https://localhost:8080/"
        }
      },
      "outputs": [
        {
          "output_type": "stream",
          "name": "stdout",
          "text": [
            "Writing px2134.py\n"
          ]
        }
      ],
      "source": [
        "%%writefile px2134.py\n",
        "\n",
        "# A test of writing a simple package.\"\n",
        "# Define a simple function ...\"\n",
        "def mycube(x):\n",
        "    return x * x * x\n"
      ]
    },
    {
      "cell_type": "markdown",
      "metadata": {
        "id": "61jkBamaKcxL"
      },
      "source": [
        "You can test out the code like this:"
      ]
    },
    {
      "cell_type": "code",
      "execution_count": 15,
      "metadata": {
        "colab": {
          "base_uri": "https://localhost:8080/"
        },
        "id": "wJJuLLtrG2Du",
        "outputId": "11c9c0e2-6bef-4018-97e5-c482c6f9c1cd"
      },
      "outputs": [
        {
          "output_type": "stream",
          "name": "stdout",
          "text": [
            "Cube of 3.1 is 29.791000000000004\n"
          ]
        }
      ],
      "source": [
        "from px2134 import *\n",
        "x = 3.1\n",
        "print ('Cube of', x, 'is', mycube(x))"
      ]
    },
    {
      "cell_type": "markdown",
      "metadata": {
        "id": "e4SvOSt1G2Dw"
      },
      "source": [
        "Generally, it’s better not to import everything in one go, which is what the syntax `from <some_package import> *` does. It’s nicer to know (i) what you are importing and (ii) where it comes from, especially if you are importing several modules. The better syntax to employ is:"
      ]
    },
    {
      "cell_type": "code",
      "execution_count": 16,
      "metadata": {
        "colab": {
          "base_uri": "https://localhost:8080/"
        },
        "id": "b3ZUtAloG2Dw",
        "outputId": "23b22feb-a23b-42ed-90d0-2cc021d85d40"
      },
      "outputs": [
        {
          "output_type": "stream",
          "name": "stdout",
          "text": [
            "27\n"
          ]
        }
      ],
      "source": [
        "from px2134 import mycube # Imports just this function\n",
        "print (cube(3))\n",
        "from math import log, exp # Imports several functions"
      ]
    },
    {
      "cell_type": "markdown",
      "metadata": {
        "id": "ltztnJFHG2D0"
      },
      "source": [
        "Often, you will see packages imported like this:"
      ]
    },
    {
      "cell_type": "code",
      "execution_count": 17,
      "metadata": {
        "colab": {
          "base_uri": "https://localhost:8080/"
        },
        "id": "qcGCvifnG2D0",
        "outputId": "3569caf4-ffbf-4e04-cebd-77eb2a4fe843"
      },
      "outputs": [
        {
          "output_type": "stream",
          "name": "stdout",
          "text": [
            "27\n"
          ]
        }
      ],
      "source": [
        "import px2134 # Imports the package itself\n",
        "print (px2134.mycube(3)) # But functions then need to be called like this"
      ]
    },
    {
      "cell_type": "markdown",
      "metadata": {
        "id": "CRr9-bzAG2D2"
      },
      "source": [
        "You can make it a bit nicer by having a name of your choice when importing:"
      ]
    },
    {
      "cell_type": "code",
      "execution_count": 18,
      "metadata": {
        "colab": {
          "base_uri": "https://localhost:8080/"
        },
        "id": "t09udDr5G2D2",
        "outputId": "55ef9953-8f3e-4805-bd76-930763480a39"
      },
      "outputs": [
        {
          "output_type": "stream",
          "name": "stdout",
          "text": [
            "27\n"
          ]
        }
      ],
      "source": [
        "import px2134 as px # Imports the package\n",
        "print (px.mycube(3)) # Functions called like this"
      ]
    },
    {
      "cell_type": "markdown",
      "metadata": {
        "id": "Z9PJ7ZvCG2D4"
      },
      "source": [
        "Large packages are often split into smaller sub-packages, called modules. A module within a larger package is referred to as `packagename.modulename`. There are many useful mathematical facilities available in the numpy package - e.g. linear algebra and Fourier transform modules. Thus the linear algebra module is called `numpy.linalg` and the (fast) Fourier transform module is called `numpy.fft`. We can import a function from a module like this:"
      ]
    },
    {
      "cell_type": "code",
      "execution_count": 19,
      "metadata": {
        "id": "QYZSzW-zG2D5"
      },
      "outputs": [],
      "source": [
        "from numpy.linalg import inv"
      ]
    },
    {
      "cell_type": "markdown",
      "metadata": {
        "caption": "function diagrams",
        "id": "_CWMKP7GG2D7",
        "label": "fig:functions",
        "widefigure": true
      },
      "source": [
        "## Thinking about functions\n",
        "When functions are new to you it is easy to fall into the trap of using them poorly. You should always keep in mind that functions are for simplifying programs by providing a *re-usable* piece of code. They therefore MUST be self-contained and have a well-defined user interface – that is, they will normally input data of a particular form and output data (or perform a defined action) of a particular form, *independent of the rest of the program*.\n",
        "This is illustrated in the sketches below. Functions that a user might want to call a great many time in a row won't include `print` or `plot` statements. A function is regarded as a “black box” taking in data and giving out data. This is what the `sin` function does for example and what our `cube` function did.\n",
        "![Figure 1: function diagrams](https://raw.githubusercontent.com/PX2134/images/master/week2/functions.001.png \"Figure 1: function diagrams.\")"
      ]
    },
    {
      "cell_type": "markdown",
      "metadata": {
        "id": "xQa2kzbzG2D7"
      },
      "source": [
        "# Exercises\n",
        "This must be marked before you leave the lab. Mark weighting is in brackets.\n",
        "**Save your work to GitHub after having run all cells with `Runtime` -> `Restart and run all`. And do not change the notebook's filename.** Do add comments to your code, you'll lose points if your code is hard to understand. Graphs without labels (or units when appropriate) are not worth any point.\n",
        "\n",
        "## Exercise 0\n",
        "[0] Write a function `convert(angle)` to convert angles in degrees to radians. Write another function `recenter(angle)` to wrap angles in radian into the $(-\\pi,\\pi]$ interval. Save those two functions into a file named `anglesutils.py`.\n",
        "\n",
        "A centrifuge's loading position at $t=0\\,\\text{s}$ is $45^\\circ$ degrees, and start accelerating at $\\alpha=2^{\\circ}\\,\\text{s}^{-2}$. So it's position in degrees is given as a function of time (in seconds) by:\n",
        "\n",
        "$$\n",
        "position(t)=45+\\frac{1}{2}\\,2\\,t^2\n",
        "$$\n",
        "\n",
        "Use the `anglesutils` module you just created to plot that function from $t=0\\,\\text{s}$ to $t=30\\,\\text{s}$ in radian in the $(-\\pi,\\pi]$ interval.\n",
        "\n",
        "(this exercise is for demonstration purposes and won't be marked)"
      ]
    },
    {
      "cell_type": "code",
      "execution_count": 25,
      "metadata": {
        "id": "Beh89FRvGOog",
        "outputId": "575fe21e-5997-42cc-a6f8-29aafac24c95",
        "colab": {
          "base_uri": "https://localhost:8080/"
        }
      },
      "outputs": [
        {
          "output_type": "stream",
          "name": "stdout",
          "text": [
            "Overwriting anglesutils.py\n"
          ]
        }
      ],
      "source": [
        "%%writefile anglesutils.py\n",
        "#writing to the file angleutils\n",
        "\n",
        "#importing numpy\n",
        "import numpy as np\n",
        "\n",
        "#conversion of angle from degrees to radians\n",
        "def convert(angle):\n",
        "  return angle*np.pi/180\n",
        "\n",
        "#controlling the boundaries of the angle to be between -pi and pi\n",
        "def recenter(angle):\n",
        "  angle_extra = -angle + np.pi\n",
        "  angle_modulus = angle_extra % (2*np.pi)\n",
        "\n",
        "  return -(angle_modulus - np.pi)"
      ]
    },
    {
      "cell_type": "code",
      "source": [
        "#importing angleutils as au for convenience\n",
        "import anglesutils as au\n",
        "\n",
        "#importing plotting function\n",
        "import matplotlib.pyplot as plt"
      ],
      "metadata": {
        "id": "OsLSb_ufUdin"
      },
      "execution_count": 26,
      "outputs": []
    },
    {
      "cell_type": "code",
      "source": [
        "import numpy as np\n",
        "\n",
        "#creating the function of the centrifuge's position as a function of time (t), where t is in seconds\n",
        "def position(t):\n",
        "  return 45 + t**2\n",
        "\n",
        "#creating the time and position variables\n",
        "t = np.linspace(0,30)\n",
        "\n",
        "x = position(t)\n",
        "\n",
        "#plotting the graph of the centrifuge's position against time\n",
        "plt.plot(t, au.recenter(au.convert(x)));\n",
        "\n",
        "#labelling the graph\n",
        "plt.xlabel('time /s')\n",
        "plt.ylabel('position /rad');"
      ],
      "metadata": {
        "id": "UW_n6ja8Xson",
        "outputId": "2d61b8aa-7f43-4392-b4cb-67542f64d4bf",
        "colab": {
          "base_uri": "https://localhost:8080/",
          "height": 449
        }
      },
      "execution_count": 28,
      "outputs": [
        {
          "output_type": "display_data",
          "data": {
            "text/plain": [
              "<Figure size 640x480 with 1 Axes>"
            ],
            "image/png": "[encoded data removed]"
          },
          "metadata": {}
        }
      ]
    },
    {
      "cell_type": "markdown",
      "metadata": {
        "id": "96bWFPfbGOow"
      },
      "source": [
        "## Exercise 1\n",
        "\n",
        "[4] Define a function `func1(time,amplitude,frequency,phase)` which returns a sine wave (as a function of time) of chosen amplitude, frequency and phase. Test it out with different amplitude, frequency and phase values by plotting suitable graphs. Set the default values for ampliture, frequency and phase to be 1, 1 and 0, respectively."
      ]
    },
    {
      "cell_type": "code",
      "execution_count": 29,
      "metadata": {
        "id": "7boeURJFGOow",
        "outputId": "578309c4-cf2c-412a-aeb0-afb52a4da965",
        "colab": {
          "base_uri": "https://localhost:8080/",
          "height": 474
        }
      },
      "outputs": [
        {
          "output_type": "display_data",
          "data": {
            "text/plain": [
              "<Figure size 640x480 with 1 Axes>"
            ],
            "image/png": "[encoded data removed]"
          },
          "metadata": {}
        }
      ],
      "source": [
        "#importing numpy and the plotting package\n",
        "import numpy as np\n",
        "import matplotlib.pyplot as plt\n",
        "\n",
        "#defining function 1, with the variables in the right place of the sine equation\n",
        "def func1(time, amplitude, frequency, phase):\n",
        "\n",
        "  return amplitude * np.sin((frequency*time) + phase)\n",
        "\n",
        "#defining base values of each variable\n",
        "time = np.linspace(0, 20, 10000)\n",
        "amplitude = 1\n",
        "frequency = 1\n",
        "phase = 0\n",
        "\n",
        "#plotting function 1 with both default variables and 2 different variations\n",
        "plt.plot(time, func1(time, amplitude, frequency, phase), \"b-\", linewidth = 2, label = \"default sine wave\")\n",
        "plt.plot(time, func1(time, 2, 2, 1), \"r--\", linewidth = 1, label = \"variation 1\")\n",
        "plt.plot(time, func1(time, 0.5, 1, 2), \"g--\", linewidth = 1, label = \"variation 2\")\n",
        "plt.title(\"A graph to show varying sine waves\", fontsize = 16)\n",
        "plt.xlabel('time')\n",
        "plt.ylabel('amplitude')\n",
        "plt.legend(loc = \"best\");"
      ]
    },
    {
      "cell_type": "markdown",
      "metadata": {
        "id": "4NRc8akYGOow"
      },
      "source": [
        "## Exercise 2\n",
        "\n",
        "A satellite has a circular orbit around the Earth with a period $T$.\n",
        "  1. [2] Prove that its altitude $h$ above the Earth‘s surface is ($M$ is Earth’s mass and $R$ its radius):\n",
        "$$h={\\left ( \\frac{GMT^2}{4\\pi^2} \\right )}^{1/3} - R$$\n",
        "    * Write the proof in Markdown in the notebook directly, no need to use python.\n",
        "    * Follow the [markdown guide](https://colab.research.google.com/notebooks/markdown_guide.ipynb) if you need some help with Markdown.\n",
        "    * Do pay particular attention to the `Equations:` section, and the linked [LaTeX/Mathematics](https://en.wikibooks.org/wiki/LaTeX/Mathematics ) wikibook to make nicely formatted equations. You will need this for the assignments.\n",
        "  2. [2] Write a function to evaluate $h$.\n",
        "  3. [2] Write a program that requests user input of $T$ and then prints out the altitude in kilometre\n",
        "  4. [2] Hence find the altitudes of satellites that orbit the Earth once a day (‘geosynchronous’ orbit), once every 90 minutes, and once every 45 minutes. What do you conclude from the last of these calculations?"
      ]
    },
    {
      "cell_type": "markdown",
      "source": [
        "Equating the centrepetal force of the satellite with the gravitational force on the satellite due to the Earth:\n",
        "\n",
        "$\\frac{mv^2}{r}$ = $\\frac{GMm}{r^2}$\n",
        "\n",
        "Where r = R+h, m is the mass of the satellite, and M is the mass of the earth\n",
        "\n",
        "Rearranging this equation, we get:\n",
        "\n",
        "$\\frac{GM}{r}$ = $v^2$\n",
        "\n",
        "We can rewrite v as:\n",
        "\n",
        "$\\frac{2\\pi r}{T}$\n",
        "\n",
        "Where T is the time period of the satellite\n",
        "\n",
        "Inputting this into our original equation, we get:\n",
        "\n",
        "$\\frac{GM}{r}$ = $\\frac{4\\pi^2 r^2}{T^2}$\n",
        "\n",
        "Rearranging this, we get:\n",
        "\n",
        "$4\\pi^2 r^3$ = $T^2 GM$\n",
        "\n",
        "Replacing r with R+h, we get:\n",
        "\n",
        "$4\\pi^2 (R+h)^3$ = $T^2 GM$\n",
        "\n",
        "Rearranging this, we get:\n",
        "\n",
        "$(R+h)^3$ = $\\frac{T^2 GM}{4\\pi^2}$\n",
        "\n",
        "Cube rooting both sides, we get:\n",
        "\n",
        "$R+h$ = $(\\frac{T^2 GM}{4\\pi^2})^\\frac{1}{3}$\n",
        "\n",
        "Taking R away from the RHS, we get the final equation:\n",
        "\n",
        "$h$ = $(\\frac{GMT^2}{4\\pi^2})^\\frac{1}{3} -R$"
      ],
      "metadata": {
        "id": "nwPdRRb6arWg"
      }
    },
    {
      "cell_type": "code",
      "execution_count": 30,
      "metadata": {
        "id": "vcXO0UktGOow",
        "colab": {
          "base_uri": "https://localhost:8080/"
        },
        "outputId": "8194ee9a-ff01-4e8d-bfaa-df60dfdcc647"
      },
      "outputs": [
        {
          "output_type": "stream",
          "name": "stdout",
          "text": [
            "Please enter a value for the time period, T, of the satellite in seconds \n",
            "1800\n",
            "The calculated altitude of the satellite in km is: \n",
            "2.56e+04\n",
            "\n",
            "The altitudes in km of the satellite in a geosynchronous orbit taken every 45 minutes are:\n",
            "[ 36410.58020571  61545.81203288  82627.99366491 101445.50547678\n",
            " 118740.41554992 134911.38277725 150203.81448196 164782.32082285\n",
            " 178764.08774468 192236.27926664 205265.9514448  217906.08965465\n",
            " 230199.48210404 242181.31182985 253880.95231892 265323.2481315\n",
            " 276529.4511235  287517.91965159 298304.65056523 308903.69064588\n",
            " 319327.45945568 329587.00596828 339692.21494682 349651.97465962\n",
            " 359474.31448053 369166.51876605 378735.2218514  388186.4878773\n",
            " 397525.87832315 406758.5094973  415889.10176175]\n",
            "\n",
            "The altitudes in km of the satellite in a geosynchronous orbit taken every 90 minutes are:\n",
            "[ 63047.0104921  103828.50949017 138034.00140747 168565.10390054\n",
            " 196625.81018999 222862.93775316 247674.65592357 271328.0419684\n",
            " 294013.22814988 315871.63665125 337012.06481727 357520.48054565\n",
            " 377466.30699774 396906.62807049 415889.10176175]\n"
          ]
        }
      ],
      "source": [
        "#importing numpy\n",
        "import numpy as np\n",
        "\n",
        "#defining h as a function of T, where the output is in km\n",
        "def h(T):\n",
        "  return (((6.67e-11 * 5.97e27 * T**2) / (4 * (np.pi)**2)) ** (1/3) - 6380000)/1000\n",
        "\n",
        "#taking in user input and converting the string to a float\n",
        "T_input = input(\"Please enter a value for the time period, T, of the satellite in seconds \\n\")\n",
        "T = float(T_input)\n",
        "\n",
        "#printing the output\n",
        "print(\"The calculated altitude of the satellite in km is: \")\n",
        "print(f'{h(T):.3}')\n",
        "\n",
        "#arrays for the values of T every 45 and 90 mins when the full time period is 24 hours\n",
        "T_45 = np.linspace(0, 86400, 32)\n",
        "T_90 = np.linspace(0, 86400, 16)\n",
        "\n",
        "#printing the altitudes using T_45 and T_90\n",
        "print(\"\")\n",
        "print(\"The altitudes in km of the satellite in a geosynchronous orbit taken every 45 minutes are:\")\n",
        "print((h(T_45))[1:])\n",
        "print(\"\")\n",
        "print(\"The altitudes in km of the satellite in a geosynchronous orbit taken every 90 minutes are:\")\n",
        "print((h(T_90))[1:])\n",
        "\n",
        "#the ending value of the amplitude appear to be the same, however the progression\n",
        "#to this value is different"
      ]
    },
    {
      "cell_type": "markdown",
      "metadata": {
        "id": "utBaloX4GOow"
      },
      "source": [
        "## Exercise 3\n",
        "\n",
        "  1. [4] Write a function `linfit(x,y)` to perform a least squares fit of data using the method described last year in PX1224 week 4 to return estimates of slope and intercept (and their errors).\n",
        "  2. [2] Put your functions into your own package, using a suitable file name. Type the code you want to be in the package (including comments!) in a cell of the notebook, pick a name for the file and add `%%writefile <file_name>.py` at the top of the cell to have the notebook create the file.\n",
        "  3. [2] Test out your package by importing it, defining some test data and plotting a graph of the data and fitted straight line. (Label the axes and give the graph a title.)\n",
        "\n",
        "**IMPORTANT**: The `linfit` function itself must be self contained. It must only take in the x- and y-data, and return m, dm, c and dc. It must not do anything else, such as print or plot data - that should all be done outside the function."
      ]
    },
    {
      "cell_type": "code",
      "execution_count": 9,
      "metadata": {
        "id": "O_0uo5LvGOox",
        "colab": {
          "base_uri": "https://localhost:8080/"
        },
        "outputId": "8252499b-3a9f-478e-b402-ffa1c8c55e82"
      },
      "outputs": [
        {
          "output_type": "stream",
          "name": "stdout",
          "text": [
            "Overwriting least_squares_fit.py\n"
          ]
        }
      ],
      "source": [
        "#writing the file and importing the correct packages\n",
        "%%writefile least_squares_fit.py\n",
        "import numpy as np\n",
        "import matplotlib.pyplot as plt\n",
        "\n",
        "def linfit(x_data,y_data):\n",
        "\n",
        "  #we can use the equations for errors in m and c in section 3.4\n",
        "  #however we need the values of D, n, xbar and Σdi^2\n",
        "  #n is the number of elements in the x_data array\n",
        "  n = len(x_data)\n",
        "  D = sum(x_data**2) - 1/n * sum(x_data)**2\n",
        "\n",
        "  #xbar is the average value of x_data\n",
        "  x_bar = sum(x_data) / n\n",
        "\n",
        "  #using the polyfit command, we can use _ as dummies, and set full = true to\n",
        "  #return a value for the residuals and p_coeff\n",
        "  p_coeff, residuals, _, _, _ = np.polyfit(x_data, y_data, 1, full=True)\n",
        "\n",
        "  #defining errors of m and c as dm and dc\n",
        "  #squares of the errors of m and c\n",
        "  dm_squared = 1/(n-2)*residuals/D\n",
        "  dc_squared = 1/(n-2)*(D/n + x_bar**2)*residuals/D\n",
        "\n",
        "  #values of dm and dc\n",
        "  dm = dm_squared**(1/2)\n",
        "  dc = dc_squared**(1/2)\n",
        "\n",
        "  #introducing the line of best fit equation\n",
        "  p_coeff = np.polyfit(x_data, y_data, 1)\n",
        "  p = np.poly1d(p_coeff)\n",
        "  x = np.linspace(min(x_data), max(x_data), 100)\n",
        "\n",
        "  #creating the array for the results and returning the needed values\n",
        "  results = np.array([p[1], dm[0], p[0], dc[0]])\n",
        "\n",
        "  return results, p, x"
      ]
    },
    {
      "cell_type": "code",
      "source": [
        "#importing the packages and file as needed\n",
        "import numpy as np\n",
        "import matplotlib.pyplot as plt\n",
        "import least_squares_fit as lsf\n",
        "\n",
        "#taking in data\n",
        "x = input( \"Please type the x values seperated by a comma \\n\" )\n",
        "y = input( \"Please type the y values seperated by a comma \\n\" )\n",
        "x_axis = input( \"Please type the label for the x axis \\n\" )\n",
        "y_axis = input( \"Please type the label for the y axis \\n\" )\n",
        "graph_title = input(\"Please input a title for the graph \\n\")\n",
        "\n",
        "#defining the arrays for the data\n",
        "x_data = np.array(x.split(\",\"), dtype = float)\n",
        "y_data = np.array(y.split(\",\"), dtype = float)\n",
        "\n",
        "#using the created linfit function\n",
        "results, p, x = lsf.linfit(x_data,y_data)\n",
        "\n",
        "# creating graph of the data\n",
        "plt.plot(x_data, y_data, \"r+\", markersize = 12,)\n",
        "plt.xlabel(x_axis, fontsize = 12)\n",
        "plt.ylabel(y_axis, fontsize = 12)\n",
        "plt.title(graph_title, fontsize = 16)\n",
        "plt.grid()\n",
        "\n",
        "# adding the best fit line to the graph\n",
        "plt.plot( x, p(x), label = \"line of best fit\")\n",
        "plt.legend(loc=\"best\")\n",
        "\n",
        "#printing out the results of the linfit function\n",
        "print(\"\")\n",
        "print(\"The slope of the graph and its error are \\n \")\n",
        "print(results[0])\n",
        "print(\"and\")\n",
        "print(results[1])\n",
        "print(\"\")\n",
        "print(\"The intercept of the graph and its error are \\n \")\n",
        "print(results[2])\n",
        "print(\"and\")\n",
        "print(results[3])"
      ],
      "metadata": {
        "colab": {
          "base_uri": "https://localhost:8080/",
          "height": 860
        },
        "id": "V-z4ohZqkPFt",
        "outputId": "a7e0759c-c887-4ef7-d7e7-eaba01325874"
      },
      "execution_count": 10,
      "outputs": [
        {
          "output_type": "stream",
          "name": "stdout",
          "text": [
            "Please type the x values seperated by a comma \n",
            "0, 0.1, 0.2, 0.4, 0.5, 0.6, 0.8\n",
            "Please type the y values seperated by a comma \n",
            " 0.055, 0.074, 0.089, 0.124, 0.135, 0.181, 0.193\n",
            "Please type the label for the x axis \n",
            "mass /kg\n",
            "Please type the label for the y axis \n",
            "length /m\n",
            "Please input a title for the graph \n",
            "Mass vs length\n",
            "\n",
            "The slope of the graph and its error are \n",
            " \n",
            "0.1804913294797688\n",
            "and\n",
            "0.013838800985276175\n",
            "\n",
            "The intercept of the graph and its error are \n",
            " \n",
            "0.054531791907514414\n",
            "and\n",
            "0.006320127966117662\n"
          ]
        },
        {
          "output_type": "display_data",
          "data": {
            "text/plain": [
              "<Figure size 640x480 with 1 Axes>"
            ],
            "image/png": "[encoded data removed]"
          },
          "metadata": {}
        }
      ]
    },
    {
      "cell_type": "code",
      "source": [],
      "metadata": {
        "id": "RlMVLx6JuIQT"
      },
      "execution_count": null,
      "outputs": []
    }
  ],
  "metadata": {
    "colab": {
      "name": "Functions.ipynb",
      "provenance": [],
      "toc_visible": true,
      "include_colab_link": true
    },
    "kernelspec": {
      "display_name": "Python 3",
      "language": "python",
      "name": "python3"
    },
    "language_info": {
      "codemirror_mode": {
        "name": "ipython",
        "version": 3
      },
      "file_extension": ".py",
      "mimetype": "text/x-python",
      "name": "python",
      "nbconvert_exporter": "python",
      "pygments_lexer": "ipython3",
      "version": "3.7.10"
    },
    "latex_metadata": {
      "affiliation": "Cardiff University",
      "author": "Vivien Raymond",
      "title": "Functions"
    }
  },
  "nbformat": 4,
  "nbformat_minor": 0
}